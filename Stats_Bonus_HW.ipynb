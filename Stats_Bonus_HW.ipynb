{
  "nbformat": 4,
  "nbformat_minor": 0,
  "metadata": {
    "colab": {
      "name": "Stats-Bonus-HW.ipynb",
      "version": "0.3.2",
      "provenance": [],
      "collapsed_sections": [],
      "include_colab_link": true
    },
    "kernelspec": {
      "name": "python3",
      "display_name": "Python 3"
    }
  },
  "cells": [
    {
      "cell_type": "markdown",
      "metadata": {
        "id": "view-in-github",
        "colab_type": "text"
      },
      "source": [
        "<a href=\"https://colab.research.google.com/github/PHNoble/Awesome-CV/blob/master/Stats_Bonus_HW.ipynb\" target=\"_parent\"><img src=\"https://colab.research.google.com/assets/colab-badge.svg\" alt=\"Open In Colab\"/></a>"
      ]
    },
    {
      "cell_type": "markdown",
      "metadata": {
        "id": "DM_6Ek_cgwdD",
        "colab_type": "text"
      },
      "source": [
        "#Bonus Homework: Iris data\n",
        "##Part A: Decriptive Statistics\n",
        "From the code below we can gather the following statistics\n",
        "\n",
        "Mean: 3.054\n",
        "\n",
        "Variance: 0.188\n",
        "\n",
        "Median: 3.0\n",
        "\n",
        "Q1: 2.8\n",
        "\n",
        "Q3: 3.3\n",
        "\n",
        "\n"
      ]
    },
    {
      "cell_type": "code",
      "metadata": {
        "id": "DJrOFlC7gfLA",
        "colab_type": "code",
        "colab": {
          "base_uri": "https://localhost:8080/",
          "height": 136
        },
        "outputId": "0ea26056-c0ec-44c0-80b0-33f11a91ae03"
      },
      "source": [
        "import requests\n",
        "\n",
        "data = requests.get(\"https://datahub.io/mach\"+\n",
        "                    \"ine-learning/iris/r/iris.json\")\n",
        "data = data.json()\n",
        "\n",
        "sepal_widths = []\n",
        "\n",
        "for iris in data: \n",
        "  sepal_widths.append(iris['sepalwidth'])\n",
        "sepal_widths.sort()\n",
        "mid = len(sepal_widths)//2\n",
        "Q1pos = mid//2\n",
        "Q3pos = mid + mid//2\n",
        "median = sepal_widths[len(sepal_widths)//2]\n",
        "Q1 = sepal_widths[Q1pos]\n",
        "Q3 = sepal_widths[Q3pos]\n",
        "mean = sum(sepal_widths)/len(sepal_widths)\n",
        "\n",
        "var = 0\n",
        "for width in sepal_widths:\n",
        "  diff = width - mean\n",
        "  var += (diff ** 2)\n",
        "  \n",
        "  \n",
        "var = var/(len(sepal_widths) - 1)\n",
        "print(\"Descriptive statistics\")\n",
        "print(\"----------------------\")\n",
        "print(\"Mean: \", mean)\n",
        "print(\"Sample Variance: \", var)\n",
        "print(\"Median: \", median)\n",
        "print(\"Q1: \", Q1)\n",
        "print(\"Q3: \", Q3)"
      ],
      "execution_count": 14,
      "outputs": [
        {
          "output_type": "stream",
          "text": [
            "Descriptive statistics\n",
            "----------------------\n",
            "Mean:  3.053999999999998\n",
            "Sample Variance:  0.18800402684563766\n",
            "Median:  3.0\n",
            "Q1:  2.8\n",
            "Q3:  3.3\n"
          ],
          "name": "stdout"
        }
      ]
    },
    {
      "cell_type": "markdown",
      "metadata": {
        "id": "Pa9znSIYsIOJ",
        "colab_type": "text"
      },
      "source": [
        "##Part B: Histogram/Box Plots\n",
        "###Histogram\n",
        "The histogram below represents the number of sepal widths within the given ranges, using a step size of 0.25. The given graph seems to be almost normally distributed, where the majority of values are within the mid range."
      ]
    },
    {
      "cell_type": "code",
      "metadata": {
        "id": "nUC4Phy-tNso",
        "colab_type": "code",
        "colab": {
          "base_uri": "https://localhost:8080/",
          "height": 300
        },
        "outputId": "14ac18a4-7514-4d90-aee8-373375681944"
      },
      "source": [
        "import matplotlib.pyplot as plt\n",
        "import numpy\n",
        "\n",
        "steps = numpy.arange(sepal_widths[0], sepal_widths[-1] + 0.25, 0.25)\n",
        "\n",
        "plt.hist(sepal_widths, steps)\n",
        "plt.xlabel(\"Sepal Widths (0.25 step size)\")\n",
        "plt.ylabel(\"Count\")\n",
        "plt.show()"
      ],
      "execution_count": 37,
      "outputs": [
        {
          "output_type": "stream",
          "text": [
            "4.4\n"
          ],
          "name": "stdout"
        },
        {
          "output_type": "display_data",
          "data": {
            "image/png": "[encoded data removed]",
            "text/plain": [
              "<Figure size 432x288 with 1 Axes>"
            ]
          },
          "metadata": {
            "tags": []
          }
        }
      ]
    },
    {
      "cell_type": "markdown",
      "metadata": {
        "id": "vSe1oMTivfZu",
        "colab_type": "text"
      },
      "source": [
        "\n",
        "###BoxPlot\n",
        "The box plot below shows the descriptive statistics from part a. Here you can see that there are 4 identified possible outliers and that the 'whiskers' of the plot are fairly even."
      ]
    },
    {
      "cell_type": "code",
      "metadata": {
        "id": "IPqsxKubvfjv",
        "colab_type": "code",
        "colab": {
          "base_uri": "https://localhost:8080/",
          "height": 269
        },
        "outputId": "3c41600f-a2ab-4234-abba-9e67385797dc"
      },
      "source": [
        "plt.boxplot(sepal_widths, vert=False)\n",
        "plt.show()"
      ],
      "execution_count": 35,
      "outputs": [
        {
          "output_type": "display_data",
          "data": {
            "image/png": "[encoded data removed]",
            "text/plain": [
              "<Figure size 432x288 with 1 Axes>"
            ]
          },
          "metadata": {
            "tags": []
          }
        }
      ]
    },
    {
      "cell_type": "markdown",
      "metadata": {
        "id": "I73SaH4yw0Wq",
        "colab_type": "text"
      },
      "source": [
        "-\n",
        "\n",
        "\n",
        "##Part C: Normality\n",
        "From the plot shown below, we can see that the data in the Q-Q plot seems to be close to normally distributed because it can be approximated fairly well by a line."
      ]
    },
    {
      "cell_type": "code",
      "metadata": {
        "id": "mvWAADsPxQNq",
        "colab_type": "code",
        "colab": {
          "base_uri": "https://localhost:8080/",
          "height": 295
        },
        "outputId": "97eb030d-0312-4c7e-eae5-add832226e7f"
      },
      "source": [
        "import scipy.stats as stats\n",
        "\n",
        "\n",
        "stats.probplot(sepal_widths, dist=\"norm\", plot=plt)\n",
        "plt.show()"
      ],
      "execution_count": 38,
      "outputs": [
        {
          "output_type": "display_data",
          "data": {
            "image/png": "[encoded data removed]",
            "text/plain": [
              "<Figure size 432x288 with 1 Axes>"
            ]
          },
          "metadata": {
            "tags": []
          }
        }
      ]
    },
    {
      "cell_type": "markdown",
      "metadata": {
        "id": "DtSykmbK0C5E",
        "colab_type": "text"
      },
      "source": [
        ""
      ]
    }
  ]
}